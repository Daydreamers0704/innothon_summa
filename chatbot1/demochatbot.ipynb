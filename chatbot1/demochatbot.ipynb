{
 "cells": [
  {
   "cell_type": "code",
   "execution_count": 16,
   "metadata": {},
   "outputs": [],
   "source": [
    "import random\n",
    "import re\n"
   ]
  },
  {
   "cell_type": "code",
   "execution_count": 20,
   "metadata": {},
   "outputs": [
    {
     "name": "stdout",
     "output_type": "stream",
     "text": [
      "Alright, have a Great Day! Ahead\n"
     ]
    }
   ],
   "source": [
    "class Supportbot:\n",
    "    negative_res= (\"sorry\",\"can't\",\"not possible\",\"don't understand\",\"unfortunately\",\"won't\",\"don't know\",\"afraid\",\"beyond my capabilities\",\"no\",\"nope\")\n",
    "    exit_commands=(\"exit\", \"quit\", \"bye\", \"goodbye\", \"close\",\"farewell\",\"pause\",\"ok\",\"see you later\")\n",
    "    def __init__(self):\n",
    "        self.support_responces=\"\"\n",
    "    def greet(self):\n",
    "        self.name=input(\"HELLO! WELCOME TO DAY DREAMERS CHATBOT. Can I know your name for futuristic use\\n\")\n",
    "        will_help=input(f\"Hi {self.name}, How can I assist you today?\\n\")\n",
    "        if will_help in self.negative_res:\n",
    "            print(\"Alright, have a Great Day! Ahead\")\n",
    "            return\n",
    "        self.chat()\n",
    "    def make_exit(self,reply):\n",
    "        for command in self.exit_commands:\n",
    "            if command in reply:\n",
    "                print(\"I'm grateful for the time you've shared with us. Thank you\")\n",
    "                return True\n",
    "        return False\n",
    "    \"\"\"def chat(self):\n",
    "        reply=input(\"Can I get your query\").lower()\n",
    "        while not self.make_exit(reply):\n",
    "            reply\"\"\"\n",
    "    \n",
    "a=Supportbot()\n",
    "a.greet()\n",
    "\n",
    "    \n",
    "        \n",
    "\n",
    "\n",
    "\n",
    "    \n",
    "    "
   ]
  },
  {
   "cell_type": "code",
   "execution_count": null,
   "metadata": {},
   "outputs": [],
   "source": []
  },
  {
   "cell_type": "markdown",
   "metadata": {},
   "source": []
  }
 ],
 "metadata": {
  "kernelspec": {
   "display_name": "myenv",
   "language": "python",
   "name": "python3"
  },
  "language_info": {
   "codemirror_mode": {
    "name": "ipython",
    "version": 3
   },
   "file_extension": ".py",
   "mimetype": "text/x-python",
   "name": "python",
   "nbconvert_exporter": "python",
   "pygments_lexer": "ipython3",
   "version": "3.8.19"
  }
 },
 "nbformat": 4,
 "nbformat_minor": 2
}
